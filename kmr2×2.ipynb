{
 "cells": [
  {
   "cell_type": "code",
   "execution_count": 1,
   "metadata": {
    "collapsed": true
   },
   "outputs": [],
   "source": [
    "%matplotlib inline"
   ]
  },
  {
   "cell_type": "code",
   "execution_count": 2,
   "metadata": {
    "collapsed": true
   },
   "outputs": [],
   "source": [
    "from __future__ import division\n",
    "import numpy as np"
   ]
  },
  {
   "cell_type": "code",
   "execution_count": 73,
   "metadata": {
    "collapsed": true
   },
   "outputs": [],
   "source": [
    "def kmr_markov_matrix(p=1/3, N=6, epsilon=0.0001):\n",
    "    \"\"\"\n",
    "    Generate the transition probability matrix for the KMR dynamics with\n",
    "    two acitons.\n",
    "\n",
    "    \"\"\"\n",
    "    P = np.zeros((N+1, N+1))\n",
    "    P[0,0] = 1 - epsilon\n",
    "    P[0,1] = epsilon\n",
    "    P[N,N] = 1 - epsilon\n",
    "    P[N,N-1] = epsilon\n",
    "    for n in range(1, N):\n",
    "        if (n-1)/(N-1) < p:\n",
    "            a1_ratio = (n-1)/(N-1)\n",
    "        elif (n-1)/(N-1) == p:\n",
    "            a1_ratio = (n-1)/(N-1)/2\n",
    "        else:\n",
    "            a1_ratio = 0\n",
    "        P[n, n-1] = (n/N) * ((epsilon/2) + (1-epsilon)*(a1_ratio))\n",
    "        if (n / (N-1)) > p:\n",
    "            a2_ratio = n / (N-1)\n",
    "        elif n / (N-1) == p:\n",
    "            a2_ratio = n / (N-1) / 2\n",
    "        else:\n",
    "            a2_ratio = 0\n",
    "        P[n, n+1] = ((N-n)/N) * ((epsilon/2) + ((1-epsilon) * a2_ratio))\n",
    "        P[n, n] = 1 - P[n, n-1] - P[n, n+1]\n",
    "    return P\n"
   ]
  },
  {
   "cell_type": "code",
   "execution_count": 50,
   "metadata": {
    "collapsed": false
   },
   "outputs": [],
   "source": [
    "import quantecon as qe\n",
    "P =  kmr_markov_matrix()\n",
    "mc = qe.MarkovChain(P)"
   ]
  },
  {
   "cell_type": "code",
   "execution_count": 62,
   "metadata": {
    "collapsed": false
   },
   "outputs": [
    {
     "data": {
      "text/plain": [
       "Markov chain with transition matrix \n",
       "P = \n",
       "[[ 0.9         0.1         0.          0.          0.          0.          0.        ]\n",
       " [ 0.00833333  0.95        0.04166667  0.          0.          0.          0.        ]\n",
       " [ 0.          0.07666667  0.65        0.27333333  0.          0.          0.        ]\n",
       " [ 0.          0.          0.025       0.68        0.295       0.          0.        ]\n",
       " [ 0.          0.          0.          0.03333333  0.71        0.25666667\n",
       "   0.        ]\n",
       " [ 0.          0.          0.          0.          0.04166667  0.8\n",
       "   0.15833333]\n",
       " [ 0.          0.          0.          0.          0.          0.1         0.9       ]]\n",
       "and stationary distributions \n",
       "[[  9.29033476e-05   1.11484017e-03   6.05891397e-04   6.62441261e-03\n",
       "    5.86260516e-02   3.61136478e-01   5.71799423e-01]]"
      ]
     },
     "execution_count": 62,
     "metadata": {},
     "output_type": "execute_result"
    }
   ],
   "source": [
    "mc"
   ]
  },
  {
   "cell_type": "code",
   "execution_count": 63,
   "metadata": {
    "collapsed": false
   },
   "outputs": [
    {
     "data": {
      "text/plain": [
       "array([[  9.29033476e-05,   1.11484017e-03,   6.05891397e-04,\n",
       "          6.62441261e-03,   5.86260516e-02,   3.61136478e-01,\n",
       "          5.71799423e-01]])"
      ]
     },
     "execution_count": 63,
     "metadata": {},
     "output_type": "execute_result"
    }
   ],
   "source": [
    "mc.stationary_distributions"
   ]
  },
  {
   "cell_type": "code",
   "execution_count": 90,
   "metadata": {
    "collapsed": false
   },
   "outputs": [
    {
     "data": {
      "text/plain": [
       "array([0, 0, 0, 0, 0, 0, 0, 0, 0, 0, 0, 1, 1, 1, 1, 1, 1, 1, 1, 1, 1, 1, 1,\n",
       "       1, 1, 1, 1, 1, 1, 1, 1, 1, 1, 1, 1, 2, 2, 2, 2, 2, 2, 2, 3, 3, 4, 4,\n",
       "       5, 4, 4, 5, 5, 5, 5, 5, 5, 5, 6, 6, 5, 5, 5, 6, 6, 6, 6, 6, 5, 5, 5,\n",
       "       5, 5, 5, 5, 5, 5, 5, 5, 5, 6, 6, 6, 6, 6, 6, 6, 6, 6, 6, 6, 6, 5, 5,\n",
       "       5, 6, 6, 6, 6, 6, 6, 6])"
      ]
     },
     "execution_count": 90,
     "metadata": {},
     "output_type": "execute_result"
    }
   ],
   "source": [
    "mc.simulate(0, 100)"
   ]
  },
  {
   "cell_type": "code",
   "execution_count": 65,
   "metadata": {
    "collapsed": true
   },
   "outputs": [],
   "source": [
    "#MarkovChain クラスのメソッドを使うところまでできました。"
   ]
  },
  {
   "cell_type": "code",
   "execution_count": 66,
   "metadata": {
    "collapsed": true
   },
   "outputs": [],
   "source": [
    "import matplotlib.pyplot as plt"
   ]
  },
  {
   "cell_type": "code",
   "execution_count": 83,
   "metadata": {
    "collapsed": false
   },
   "outputs": [
    {
     "data": {
      "image/png": "[encoded data removed]",
      "text/plain": [
       "<matplotlib.figure.Figure at 0x22b44400>"
      ]
     },
     "metadata": {},
     "output_type": "display_data"
    }
   ],
   "source": [
    "fig, ax = plt.subplots()\n",
    "ax.plot(mc.simulate(0, 10000))\n",
    "show = plt.show()"
   ]
  },
  {
   "cell_type": "code",
   "execution_count": 96,
   "metadata": {
    "collapsed": false
   },
   "outputs": [
    {
     "data": {
      "image/png": "[encoded data removed]",
      "text/plain": [
       "<matplotlib.figure.Figure at 0x1a190198>"
      ]
     },
     "metadata": {},
     "output_type": "display_data"
    }
   ],
   "source": [
    "t = 10**4\n",
    "x = np.array(range(t))\n",
    "y = mc.simulate(0, t)\n",
    "plt.plot(x, y)\n",
    "plt.show()"
   ]
  },
  {
   "cell_type": "code",
   "execution_count": null,
   "metadata": {
    "collapsed": true
   },
   "outputs": [],
   "source": []
  }
 ],
 "metadata": {
  "kernelspec": {
   "display_name": "Python 2",
   "language": "python",
   "name": "python2"
  },
  "language_info": {
   "codemirror_mode": {
    "name": "ipython",
    "version": 2
   },
   "file_extension": ".py",
   "mimetype": "text/x-python",
   "name": "python",
   "nbconvert_exporter": "python",
   "pygments_lexer": "ipython2",
   "version": "2.7.9"
  }
 },
 "nbformat": 4,
 "nbformat_minor": 0
}
